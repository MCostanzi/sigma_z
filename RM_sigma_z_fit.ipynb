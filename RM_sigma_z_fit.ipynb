{
 "cells": [
  {
   "cell_type": "markdown",
   "metadata": {},
   "source": [
    "# Calculate projection effects in redmapper"
   ]
  },
  {
   "cell_type": "code",
   "execution_count": null,
   "metadata": {},
   "outputs": [],
   "source": [
    "#import everything\n",
    "import sys, os\n",
    "from astropy.io import fits # per leggere fits file\n",
    "import numpy as np\n",
    "from scipy.optimize import curve_fit,minimize\n",
    "import matplotlib.pyplot as plt\n",
    "\n",
    "%matplotlib inline"
   ]
  },
  {
   "cell_type": "code",
   "execution_count": null,
   "metadata": {},
   "outputs": [],
   "source": [
    "#Load DES Y3 lambda(z) data or whatever you want to use\n",
    "datapath = \"chto_y3_gold_2.2.1_wide_sofcol_run2_lz_run_runpos.fit\"\n",
    "hdu_list = fits.open(datapath)"
   ]
  },
  {
   "cell_type": "code",
   "execution_count": null,
   "metadata": {},
   "outputs": [],
   "source": [
    "# Here I'm using DES Y3 data, you should assign to each array your values\n",
    "id_cluster=hdu_list[1].data['MEM_MATCH_ID'] # ID of the cluster\n",
    "lambda_in = hdu_list[1].data['LAMBDA_IN'] # The TRUE richness of the cluster\n",
    "z_in=hdu_list[1].data['Z_LAMBDA_IN'] # The TRUE redshift of the cluster\n",
    "lambda_arrays = hdu_list[1].data['LAMBDA_CHISQS'] # Measured richness as function of redshift, i.e. lambda(z)\n",
    "z_domain = np.arange(0.1,0.950,0.005) # Grid over which lambda(z) is measured\n",
    "print z_domain.shape\n",
    "print lambda_arrays.shape\n",
    "del hdu_list"
   ]
  },
  {
   "cell_type": "markdown",
   "metadata": {},
   "source": [
    "Now we define a comparison function, as well as a model for $\\lambda(z)$."
   ]
  },
  {
   "cell_type": "code",
   "execution_count": null,
   "metadata": {},
   "outputs": [],
   "source": [
    "# Delta_z sets the redshift range around z_in used to fit the data.\n",
    "# The smaller the value the better the fit to the peak of lambda(z)\n",
    "# Increase the value to fit also the tail of lambda(z)\n",
    "# Delta_z=0.1 is a good compromise to correctly fit clear l.o.s. systems and moderately disturbed ones\n",
    "Delta_z=0.1\n",
    "\n",
    "# Delta_lambda sets the lowever values of lambda(z) (realtive to the maximum lambda(z) values) used in the fit\n",
    "# A value of 20% is recommended in real data to avoid fitting the often disturbed tails of the lambda(z) distribution\n",
    "Delta_lambda=0.2\n",
    "\n",
    "# You can check the effects of these parameters in the example below\n",
    "\n",
    "#Lambda(z) model function, basically a parabola\n",
    "def lambda_model(z, sigmaz, z_peak, lambda_peak):\n",
    "    l_mod=lambda_peak - (sigmaz*1.0e4)*(z-z_peak)**2.\n",
    "    l_mod[l_mod<0.]=0.\n",
    "    return l_mod\n",
    "\n",
    "#The comparison function used to fit the model\n",
    "def comparison(params, z_domain, lambda_array,zin):\n",
    "    z_peak, sigmaz, lambda_peak = params #Pull out the parameters\n",
    "    #Some priors\n",
    "    if any(params < 0.0): return np.inf\n",
    "    if z_peak > 4.0: return np.inf #Way too high redshift\n",
    "    if lambda_peak > 1000: return np.inf #Way too big\n",
    "    if np.abs(z_peak-zin ) > Delta_z: return np.inf #Too far away from the true redshift\n",
    "    \n",
    "    lam_model = lambda_model(z_domain, sigmaz, z_peak, lambda_peak)\n",
    "    X = (lambda_array - lam_model)**2\n",
    "    z_cond =(z_domain < zin+Delta_z)* (z_domain > zin-Delta_z)\n",
    "    max_lambda_in_z_cond= max(lambda_array[z_cond]) # this is to be sure that it considers the max lambda in the relevant z-range\n",
    "    indices = (lambda_array > max_lambda_in_z_cond*Delta_lambda) * z_cond\n",
    "    return sum(X[indices])"
   ]
  },
  {
   "cell_type": "markdown",
   "metadata": {},
   "source": [
    "Try this procedure on a single cluster"
   ]
  },
  {
   "cell_type": "code",
   "execution_count": null,
   "metadata": {},
   "outputs": [],
   "source": [
    "ii=9 # ID of the cluster you want to check\n",
    "x0 = [z_in[ii], 1., lambda_in[ii]]\n",
    "\n",
    "result = minimize(comparison, x0=x0, args=(z_domain, lambda_arrays[ii],z_in[ii]), method='Nelder-Mead')\n",
    "zbest, szbest, lambest = result['x']\n",
    "print result"
   ]
  },
  {
   "cell_type": "code",
   "execution_count": null,
   "metadata": {},
   "outputs": [],
   "source": [
    "def make_plot(z_peak, sigmaz, lambda_peak, z_in, lambda_in, z_domain, lambda_array, save=False, index=None):\n",
    "    plt.plot(z_domain, lambda_array)\n",
    "    plt.scatter(z_in, lambda_in, marker='o',s=200,color='r')\n",
    "    plt.plot(z_domain, lambda_model(z_domain, sigmaz, z_peak, lambda_peak),label='model fit')\n",
    "    plt.ylabel(\"$\\\\lambda(z)$\", fontsize=24)\n",
    "    plt.xlabel(\"$z$\", fontsize=24)\n",
    "    z_cond =(z_domain < z_in+Delta_z)* (z_domain > z_in-Delta_z)\n",
    "    max_lambda_in_z_cond= max(lambda_array[z_cond]) # this is to be sure that it consider the max in the relevant z-range\n",
    "    indices = (lambda_array > max_lambda_in_z_cond*Delta_lambda) * z_cond\n",
    "    plt.plot(z_domain[indices], lambda_array[indices],'^',label='data used in the fit')\n",
    "    plt.legend()\n",
    "    return\n",
    "\n",
    "make_plot(zbest, szbest, lambest, z_in[ii], lambda_in[ii], z_domain, lambda_arrays[ii], index=ii)\n"
   ]
  },
  {
   "cell_type": "markdown",
   "metadata": {},
   "source": [
    "Great. Let's proceed with every other cluster and save the outputs."
   ]
  },
  {
   "cell_type": "code",
   "execution_count": null,
   "metadata": {
    "scrolled": true
   },
   "outputs": [],
   "source": [
    "N = len(lambda_arrays)\n",
    "sz_all = np.zeros((N)) #sigmaz for all clusters\n",
    "zp_all = np.zeros((N)) #z_peak for all clusters\n",
    "lp_all = np.zeros((N)) #lambda_peak for all clusters\n",
    "chis = np.zeros((N)) #to estiamte the goodness of the fit (it is not exactly the chisq value)\n",
    "\n",
    "for i in xrange(0,N):\n",
    "    x0 = [z_in[i], 1., lambda_in[i]] # Mine per creare y1a1_gold_1.0.3._v2_\n",
    "    result = minimize(comparison, x0=x0, args=(z_domain, lambda_arrays[i],z_in[i]), method='Nelder-Mead')\n",
    "    zp_all[i], sz_all[i], lp_all[i] = result['x']\n",
    "\n",
    "    # for the goodness of fit just use the data point actaully used to fit\n",
    "    z_cond =(z_domain < z_in[i]+Delta_z)* (z_domain > z_in[i]-Delta_z)\n",
    "    max_lambda_in_z_cond= max((lambda_arrays[i])[z_cond]) # this is to be sure that it consider the max in the relevant z-range\n",
    "    indices = (lambda_arrays[i] > max_lambda_in_z_cond*Delta_lambda) * z_cond\n",
    "    tosum=np.abs(lambda_model(z_domain[indices], sz_all[i], zp_all[i], lp_all[i])-(lambda_arrays[i])[indices])/(lambda_arrays[i])[indices]\n",
    "    chis[i]=np.sum(tosum)/len(tosum)\n",
    "    if i%500==0: print \"At cluster %d\"%i"
   ]
  },
  {
   "cell_type": "code",
   "execution_count": null,
   "metadata": {},
   "outputs": [],
   "source": [
    "# Define sig_z_kernel according to Eq. 9 of the Projection effect paper (https://arxiv.org/pdf/1807.07072.pdf)\n",
    "# With this transformation sig_z_kernel represents the width of the parabola used to fit lambda(z)  \n",
    "sig_z_kernel=(sz_all/lp_all)**(-0.5)/100. "
   ]
  },
  {
   "cell_type": "code",
   "execution_count": null,
   "metadata": {},
   "outputs": [],
   "source": [
    "# Plot the chis distribution\n",
    "# You can use chis to assess the goodness of the fit, e.g. see below\n",
    "plt.hist(chis,bins=100,density=True)\n",
    "print 'done'"
   ]
  },
  {
   "cell_type": "code",
   "execution_count": null,
   "metadata": {},
   "outputs": [],
   "source": [
    "# Example of a systems with bad chis\n",
    "cond=(chis>0.3)\n",
    "idx=np.arange(len(z_in))\n",
    "idx_to_keep=idx[cond]\n",
    "\n",
    "print len(idx_to_keep)\n",
    "\n",
    "f, ax = plt.subplots(min(10,len(idx_to_keep)), 1, sharex=True, figsize=(5,20))\n",
    "\n",
    "for i,idx in enumerate(idx_to_keep[:min(10,len(idx_to_keep))]):\n",
    "    z_cond =(z_domain < z_in[idx]+0.1)* (z_domain > z_in[idx]-0.1)\n",
    "    max_lambda_in_z_cond= max((lambda_arrays[idx])[z_cond]) # this is to be sure that it consider the max in the relevant z-range\n",
    "    indices = (lambda_arrays[idx] > max_lambda_in_z_cond*0.2) * z_cond\n",
    "    ax[i].plot(z_domain[indices], (lambda_arrays[idx])[indices],'go')\n",
    "    ax[i].plot(z_domain, lambda_arrays[idx])\n",
    "    ax[i].plot(z_in[idx],lambda_in[idx],'ro') # quello che matcha con redMaPPer usato per il fit\n",
    "    ax[i].plot(z_domain,lambda_model(z_domain, sz_all[idx], zp_all[idx], lp_all[idx]),label=(idx,chis[idx]))\n",
    "    ax[i].legend()\n"
   ]
  }
 ],
 "metadata": {
  "kernelspec": {
   "display_name": "Python 2",
   "language": "python",
   "name": "python2"
  },
  "language_info": {
   "codemirror_mode": {
    "name": "ipython",
    "version": 2
   },
   "file_extension": ".py",
   "mimetype": "text/x-python",
   "name": "python",
   "nbconvert_exporter": "python",
   "pygments_lexer": "ipython2",
   "version": "2.7.16"
  }
 },
 "nbformat": 4,
 "nbformat_minor": 1
}
